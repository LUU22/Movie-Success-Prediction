{
 "cells": [
  {
   "cell_type": "markdown",
   "metadata": {},
   "source": [
    "# Movie Success Prediction"
   ]
  },
  {
   "cell_type": "markdown",
   "metadata": {},
   "source": [
    "##### Import necessary libraries"
   ]
  },
  {
   "cell_type": "code",
   "execution_count": 317,
   "metadata": {},
   "outputs": [],
   "source": [
    "import pandas as pd\n",
    "import numpy as np\n",
    "import matplotlib.pyplot as plt\n",
    "from time import time\n",
    "# Pretty display for notebooks\n",
    "%matplotlib inline"
   ]
  },
  {
   "cell_type": "markdown",
   "metadata": {},
   "source": [
    "### Data Cleaning"
   ]
  },
  {
   "cell_type": "code",
   "execution_count": 318,
   "metadata": {},
   "outputs": [],
   "source": [
    "train_data =  pd.read_excel(\"C:/Users/samit.singh/Desktop/TSC/Case Study/Training-Test-Data-Case-1.xlsm\")\n",
    "final_test_data = pd.read_excel(\"C:/Users/samit.singh/Desktop/TSC/Case Study/Validation-Data-Case-1.xlsm\")"
   ]
  },
  {
   "cell_type": "markdown",
   "metadata": {},
   "source": [
    "#### Lets us inspect the train and test data"
   ]
  },
  {
   "cell_type": "code",
   "execution_count": 319,
   "metadata": {},
   "outputs": [
    {
     "data": {
      "text/html": [
       "<div>\n",
       "<style scoped>\n",
       "    .dataframe tbody tr th:only-of-type {\n",
       "        vertical-align: middle;\n",
       "    }\n",
       "\n",
       "    .dataframe tbody tr th {\n",
       "        vertical-align: top;\n",
       "    }\n",
       "\n",
       "    .dataframe thead th {\n",
       "        text-align: right;\n",
       "    }\n",
       "</style>\n",
       "<table border=\"1\" class=\"dataframe\">\n",
       "  <thead>\n",
       "    <tr style=\"text-align: right;\">\n",
       "      <th></th>\n",
       "      <th>id</th>\n",
       "      <th>name</th>\n",
       "      <th>display_name</th>\n",
       "      <th>production_year</th>\n",
       "      <th>movie_sequel</th>\n",
       "      <th>creative_type</th>\n",
       "      <th>source</th>\n",
       "      <th>production_method</th>\n",
       "      <th>genre</th>\n",
       "      <th>language</th>\n",
       "      <th>board_rating_reason</th>\n",
       "      <th>movie_board_rating_display_name</th>\n",
       "      <th>movie_release_pattern_display_name</th>\n",
       "      <th>total</th>\n",
       "      <th>Category</th>\n",
       "    </tr>\n",
       "  </thead>\n",
       "  <tbody>\n",
       "    <tr>\n",
       "      <th>0</th>\n",
       "      <td>7950115</td>\n",
       "      <td>Avatar</td>\n",
       "      <td>Avatar</td>\n",
       "      <td>2009</td>\n",
       "      <td>0</td>\n",
       "      <td>Science Fiction</td>\n",
       "      <td>Original Screenplay</td>\n",
       "      <td>Animation/Live Action</td>\n",
       "      <td>Action</td>\n",
       "      <td>English</td>\n",
       "      <td>For intense epic battle sequences and warfare,...</td>\n",
       "      <td>PG-13</td>\n",
       "      <td>Wide</td>\n",
       "      <td>2784</td>\n",
       "      <td>9</td>\n",
       "    </tr>\n",
       "    <tr>\n",
       "      <th>1</th>\n",
       "      <td>50950115</td>\n",
       "      <td>Harry Potter and the Deathly Hallows: Part II</td>\n",
       "      <td>Harry Potter and the Deathly Hallows: Part II</td>\n",
       "      <td>2011</td>\n",
       "      <td>1</td>\n",
       "      <td>Fantasy</td>\n",
       "      <td>Based on Fiction Book/Short Story</td>\n",
       "      <td>Animation/Live Action</td>\n",
       "      <td>Adventure</td>\n",
       "      <td>English</td>\n",
       "      <td>for some sequences of intense action violence ...</td>\n",
       "      <td>PG-13</td>\n",
       "      <td>Wide</td>\n",
       "      <td>1328</td>\n",
       "      <td>9</td>\n",
       "    </tr>\n",
       "    <tr>\n",
       "      <th>2</th>\n",
       "      <td>119870115</td>\n",
       "      <td>Transformers 3</td>\n",
       "      <td>Transformers: Dark of the Moon</td>\n",
       "      <td>2011</td>\n",
       "      <td>1</td>\n",
       "      <td>Science Fiction</td>\n",
       "      <td>Based on TV</td>\n",
       "      <td>Animation/Live Action</td>\n",
       "      <td>Action</td>\n",
       "      <td>English</td>\n",
       "      <td>for intense prolonged sequences of sci-fi acti...</td>\n",
       "      <td>PG-13</td>\n",
       "      <td>Wide</td>\n",
       "      <td>1124</td>\n",
       "      <td>9</td>\n",
       "    </tr>\n",
       "    <tr>\n",
       "      <th>3</th>\n",
       "      <td>119590115</td>\n",
       "      <td>Toy Story 3</td>\n",
       "      <td>Toy Story 3</td>\n",
       "      <td>2010</td>\n",
       "      <td>1</td>\n",
       "      <td>Kids Fiction</td>\n",
       "      <td>Original Screenplay</td>\n",
       "      <td>Digital Animation</td>\n",
       "      <td>Adventure</td>\n",
       "      <td>English</td>\n",
       "      <td>General</td>\n",
       "      <td>G</td>\n",
       "      <td>Wide</td>\n",
       "      <td>1064</td>\n",
       "      <td>9</td>\n",
       "    </tr>\n",
       "    <tr>\n",
       "      <th>4</th>\n",
       "      <td>91700115</td>\n",
       "      <td>Pirates of the Caribbean 4</td>\n",
       "      <td>Pirates of the Caribbean: On Stranger Tides</td>\n",
       "      <td>2011</td>\n",
       "      <td>1</td>\n",
       "      <td>Fantasy</td>\n",
       "      <td>Based on Theme Park Ride</td>\n",
       "      <td>Live Action</td>\n",
       "      <td>Adventure</td>\n",
       "      <td>English</td>\n",
       "      <td>for intense sequences of action/adventure viol...</td>\n",
       "      <td>PG-13</td>\n",
       "      <td>Wide</td>\n",
       "      <td>1044</td>\n",
       "      <td>9</td>\n",
       "    </tr>\n",
       "  </tbody>\n",
       "</table>\n",
       "</div>"
      ],
      "text/plain": [
       "          id                                           name  \\\n",
       "0    7950115                                         Avatar   \n",
       "1   50950115  Harry Potter and the Deathly Hallows: Part II   \n",
       "2  119870115                                 Transformers 3   \n",
       "3  119590115                                    Toy Story 3   \n",
       "4   91700115                     Pirates of the Caribbean 4   \n",
       "\n",
       "                                    display_name  production_year  \\\n",
       "0                                         Avatar             2009   \n",
       "1  Harry Potter and the Deathly Hallows: Part II             2011   \n",
       "2                 Transformers: Dark of the Moon             2011   \n",
       "3                                    Toy Story 3             2010   \n",
       "4    Pirates of the Caribbean: On Stranger Tides             2011   \n",
       "\n",
       "   movie_sequel    creative_type                             source  \\\n",
       "0             0  Science Fiction                Original Screenplay   \n",
       "1             1          Fantasy  Based on Fiction Book/Short Story   \n",
       "2             1  Science Fiction                        Based on TV   \n",
       "3             1     Kids Fiction                Original Screenplay   \n",
       "4             1          Fantasy           Based on Theme Park Ride   \n",
       "\n",
       "       production_method      genre language  \\\n",
       "0  Animation/Live Action     Action  English   \n",
       "1  Animation/Live Action  Adventure  English   \n",
       "2  Animation/Live Action     Action  English   \n",
       "3      Digital Animation  Adventure  English   \n",
       "4            Live Action  Adventure  English   \n",
       "\n",
       "                                 board_rating_reason  \\\n",
       "0  For intense epic battle sequences and warfare,...   \n",
       "1  for some sequences of intense action violence ...   \n",
       "2  for intense prolonged sequences of sci-fi acti...   \n",
       "3                                            General   \n",
       "4  for intense sequences of action/adventure viol...   \n",
       "\n",
       "  movie_board_rating_display_name movie_release_pattern_display_name  total  \\\n",
       "0                           PG-13                               Wide   2784   \n",
       "1                           PG-13                               Wide   1328   \n",
       "2                           PG-13                               Wide   1124   \n",
       "3                               G                               Wide   1064   \n",
       "4                           PG-13                               Wide   1044   \n",
       "\n",
       "   Category  \n",
       "0         9  \n",
       "1         9  \n",
       "2         9  \n",
       "3         9  \n",
       "4         9  "
      ]
     },
     "execution_count": 319,
     "metadata": {},
     "output_type": "execute_result"
    }
   ],
   "source": [
    "train_data.head()"
   ]
  },
  {
   "cell_type": "code",
   "execution_count": 320,
   "metadata": {},
   "outputs": [
    {
     "data": {
      "text/html": [
       "<div>\n",
       "<style scoped>\n",
       "    .dataframe tbody tr th:only-of-type {\n",
       "        vertical-align: middle;\n",
       "    }\n",
       "\n",
       "    .dataframe tbody tr th {\n",
       "        vertical-align: top;\n",
       "    }\n",
       "\n",
       "    .dataframe thead th {\n",
       "        text-align: right;\n",
       "    }\n",
       "</style>\n",
       "<table border=\"1\" class=\"dataframe\">\n",
       "  <thead>\n",
       "    <tr style=\"text-align: right;\">\n",
       "      <th></th>\n",
       "      <th>id</th>\n",
       "      <th>name</th>\n",
       "      <th>display_name</th>\n",
       "      <th>production_budget</th>\n",
       "      <th>production_year</th>\n",
       "      <th>movie_sequel</th>\n",
       "      <th>creative_type</th>\n",
       "      <th>source</th>\n",
       "      <th>production_method</th>\n",
       "      <th>genre</th>\n",
       "      <th>language</th>\n",
       "      <th>board_rating_reason</th>\n",
       "      <th>movie_board_rating_display_name</th>\n",
       "      <th>movie_release_pattern_display_name</th>\n",
       "    </tr>\n",
       "  </thead>\n",
       "  <tbody>\n",
       "    <tr>\n",
       "      <th>0</th>\n",
       "      <td>109870115</td>\n",
       "      <td>Spider-Man 3</td>\n",
       "      <td>Spider-Man 3</td>\n",
       "      <td>2007</td>\n",
       "      <td>1</td>\n",
       "      <td>Super Hero</td>\n",
       "      <td>Based on Comic/Graphic Novel</td>\n",
       "      <td>Live Action</td>\n",
       "      <td>Adventure</td>\n",
       "      <td>English</td>\n",
       "      <td>for sequences of intense action violence</td>\n",
       "      <td>PG-13</td>\n",
       "      <td>Wide</td>\n",
       "      <td>891</td>\n",
       "    </tr>\n",
       "    <tr>\n",
       "      <th>1</th>\n",
       "      <td>50170115</td>\n",
       "      <td>Hangover 2, The</td>\n",
       "      <td>The Hangover Part II</td>\n",
       "      <td>2011</td>\n",
       "      <td>1</td>\n",
       "      <td>Contemporary Fiction</td>\n",
       "      <td>Original Screenplay</td>\n",
       "      <td>Live Action</td>\n",
       "      <td>Comedy</td>\n",
       "      <td>English</td>\n",
       "      <td>for pervasive language, strong sexual content ...</td>\n",
       "      <td>R</td>\n",
       "      <td>Wide</td>\n",
       "      <td>586</td>\n",
       "    </tr>\n",
       "    <tr>\n",
       "      <th>2</th>\n",
       "      <td>56130115</td>\n",
       "      <td>I am Legend</td>\n",
       "      <td>I am Legend</td>\n",
       "      <td>2007</td>\n",
       "      <td>0</td>\n",
       "      <td>Science Fiction</td>\n",
       "      <td>Based on Fiction Book/Short Story</td>\n",
       "      <td>Live Action</td>\n",
       "      <td>Horror</td>\n",
       "      <td>English</td>\n",
       "      <td>for intense sequences of sci-fi action and vio...</td>\n",
       "      <td>PG-13</td>\n",
       "      <td>Wide</td>\n",
       "      <td>585</td>\n",
       "    </tr>\n",
       "    <tr>\n",
       "      <th>3</th>\n",
       "      <td>146810115</td>\n",
       "      <td>Alvin and the Chipmunks Chip Wrecked</td>\n",
       "      <td>Alvin and the Chipmunks: Chipwrecked</td>\n",
       "      <td>2011</td>\n",
       "      <td>1</td>\n",
       "      <td>Kids Fiction</td>\n",
       "      <td>Based on TV</td>\n",
       "      <td>Animation/Live Action</td>\n",
       "      <td>Comedy</td>\n",
       "      <td>English</td>\n",
       "      <td>General</td>\n",
       "      <td>G</td>\n",
       "      <td>Wide</td>\n",
       "      <td>337</td>\n",
       "    </tr>\n",
       "    <tr>\n",
       "      <th>4</th>\n",
       "      <td>93880115</td>\n",
       "      <td>Prince of Persia: Sands of Time</td>\n",
       "      <td>Prince of Persia: Sands of Time</td>\n",
       "      <td>2010</td>\n",
       "      <td>0</td>\n",
       "      <td>Fantasy</td>\n",
       "      <td>Based on Game</td>\n",
       "      <td>Live Action</td>\n",
       "      <td>Action</td>\n",
       "      <td>English</td>\n",
       "      <td>For intense sequences of violence and action</td>\n",
       "      <td>PG-13</td>\n",
       "      <td>Wide</td>\n",
       "      <td>335</td>\n",
       "    </tr>\n",
       "  </tbody>\n",
       "</table>\n",
       "</div>"
      ],
      "text/plain": [
       "          id                                  name  \\\n",
       "0  109870115                          Spider-Man 3   \n",
       "1   50170115                       Hangover 2, The   \n",
       "2   56130115                           I am Legend   \n",
       "3  146810115  Alvin and the Chipmunks Chip Wrecked   \n",
       "4   93880115       Prince of Persia: Sands of Time   \n",
       "\n",
       "                           display_name  production_budget  production_year  \\\n",
       "0                          Spider-Man 3               2007                1   \n",
       "1                  The Hangover Part II               2011                1   \n",
       "2                           I am Legend               2007                0   \n",
       "3  Alvin and the Chipmunks: Chipwrecked               2011                1   \n",
       "4       Prince of Persia: Sands of Time               2010                0   \n",
       "\n",
       "           movie_sequel                      creative_type  \\\n",
       "0            Super Hero       Based on Comic/Graphic Novel   \n",
       "1  Contemporary Fiction                Original Screenplay   \n",
       "2       Science Fiction  Based on Fiction Book/Short Story   \n",
       "3          Kids Fiction                        Based on TV   \n",
       "4               Fantasy                      Based on Game   \n",
       "\n",
       "                  source production_method    genre  \\\n",
       "0            Live Action         Adventure  English   \n",
       "1            Live Action            Comedy  English   \n",
       "2            Live Action            Horror  English   \n",
       "3  Animation/Live Action            Comedy  English   \n",
       "4            Live Action            Action  English   \n",
       "\n",
       "                                            language board_rating_reason  \\\n",
       "0           for sequences of intense action violence               PG-13   \n",
       "1  for pervasive language, strong sexual content ...                   R   \n",
       "2  for intense sequences of sci-fi action and vio...               PG-13   \n",
       "3                                            General                   G   \n",
       "4       For intense sequences of violence and action               PG-13   \n",
       "\n",
       "  movie_board_rating_display_name  movie_release_pattern_display_name  \n",
       "0                            Wide                                 891  \n",
       "1                            Wide                                 586  \n",
       "2                            Wide                                 585  \n",
       "3                            Wide                                 337  \n",
       "4                            Wide                                 335  "
      ]
     },
     "execution_count": 320,
     "metadata": {},
     "output_type": "execute_result"
    }
   ],
   "source": [
    "final_test_data.head()"
   ]
  },
  {
   "cell_type": "markdown",
   "metadata": {},
   "source": [
    "#### On inspecting the test data, a mismatch is found in name of the columns and the datapoints. Also there is no data for the column \"production_budget\". So let us correctly label the columns in the  test data set."
   ]
  },
  {
   "cell_type": "code",
   "execution_count": 321,
   "metadata": {},
   "outputs": [
    {
     "data": {
      "text/plain": [
       "Index(['id', 'name', 'display_name', 'production_budget', 'production_year',\n",
       "       'movie_sequel', 'creative_type', 'source', 'production_method', 'genre',\n",
       "       'language', 'board_rating_reason', 'movie_board_rating_display_name',\n",
       "       'movie_release_pattern_display_name'],\n",
       "      dtype='object')"
      ]
     },
     "execution_count": 321,
     "metadata": {},
     "output_type": "execute_result"
    }
   ],
   "source": [
    "final_test_data.columns"
   ]
  },
  {
   "cell_type": "code",
   "execution_count": 322,
   "metadata": {},
   "outputs": [],
   "source": [
    "correct_column_names = ['id', 'name', 'display_name', 'production_year',\n",
    "       'movie_sequel', 'creative_type', 'source', 'production_method', 'genre',\n",
    "       'language', 'board_rating_reason', 'movie_board_rating_display_name',\n",
    "       'movie_release_pattern_display_name', 'total']"
   ]
  },
  {
   "cell_type": "code",
   "execution_count": 323,
   "metadata": {},
   "outputs": [],
   "source": [
    "final_test_data.columns = correct_column_names\n",
    "submission_data = final_test_data.copy()  # making a copy for submission at the end."
   ]
  },
  {
   "cell_type": "code",
   "execution_count": 324,
   "metadata": {},
   "outputs": [
    {
     "data": {
      "text/html": [
       "<div>\n",
       "<style scoped>\n",
       "    .dataframe tbody tr th:only-of-type {\n",
       "        vertical-align: middle;\n",
       "    }\n",
       "\n",
       "    .dataframe tbody tr th {\n",
       "        vertical-align: top;\n",
       "    }\n",
       "\n",
       "    .dataframe thead th {\n",
       "        text-align: right;\n",
       "    }\n",
       "</style>\n",
       "<table border=\"1\" class=\"dataframe\">\n",
       "  <thead>\n",
       "    <tr style=\"text-align: right;\">\n",
       "      <th></th>\n",
       "      <th>id</th>\n",
       "      <th>name</th>\n",
       "      <th>display_name</th>\n",
       "      <th>production_year</th>\n",
       "      <th>movie_sequel</th>\n",
       "      <th>creative_type</th>\n",
       "      <th>source</th>\n",
       "      <th>production_method</th>\n",
       "      <th>genre</th>\n",
       "      <th>language</th>\n",
       "      <th>board_rating_reason</th>\n",
       "      <th>movie_board_rating_display_name</th>\n",
       "      <th>movie_release_pattern_display_name</th>\n",
       "      <th>total</th>\n",
       "    </tr>\n",
       "  </thead>\n",
       "  <tbody>\n",
       "    <tr>\n",
       "      <th>0</th>\n",
       "      <td>109870115</td>\n",
       "      <td>Spider-Man 3</td>\n",
       "      <td>Spider-Man 3</td>\n",
       "      <td>2007</td>\n",
       "      <td>1</td>\n",
       "      <td>Super Hero</td>\n",
       "      <td>Based on Comic/Graphic Novel</td>\n",
       "      <td>Live Action</td>\n",
       "      <td>Adventure</td>\n",
       "      <td>English</td>\n",
       "      <td>for sequences of intense action violence</td>\n",
       "      <td>PG-13</td>\n",
       "      <td>Wide</td>\n",
       "      <td>891</td>\n",
       "    </tr>\n",
       "    <tr>\n",
       "      <th>1</th>\n",
       "      <td>50170115</td>\n",
       "      <td>Hangover 2, The</td>\n",
       "      <td>The Hangover Part II</td>\n",
       "      <td>2011</td>\n",
       "      <td>1</td>\n",
       "      <td>Contemporary Fiction</td>\n",
       "      <td>Original Screenplay</td>\n",
       "      <td>Live Action</td>\n",
       "      <td>Comedy</td>\n",
       "      <td>English</td>\n",
       "      <td>for pervasive language, strong sexual content ...</td>\n",
       "      <td>R</td>\n",
       "      <td>Wide</td>\n",
       "      <td>586</td>\n",
       "    </tr>\n",
       "    <tr>\n",
       "      <th>2</th>\n",
       "      <td>56130115</td>\n",
       "      <td>I am Legend</td>\n",
       "      <td>I am Legend</td>\n",
       "      <td>2007</td>\n",
       "      <td>0</td>\n",
       "      <td>Science Fiction</td>\n",
       "      <td>Based on Fiction Book/Short Story</td>\n",
       "      <td>Live Action</td>\n",
       "      <td>Horror</td>\n",
       "      <td>English</td>\n",
       "      <td>for intense sequences of sci-fi action and vio...</td>\n",
       "      <td>PG-13</td>\n",
       "      <td>Wide</td>\n",
       "      <td>585</td>\n",
       "    </tr>\n",
       "    <tr>\n",
       "      <th>3</th>\n",
       "      <td>146810115</td>\n",
       "      <td>Alvin and the Chipmunks Chip Wrecked</td>\n",
       "      <td>Alvin and the Chipmunks: Chipwrecked</td>\n",
       "      <td>2011</td>\n",
       "      <td>1</td>\n",
       "      <td>Kids Fiction</td>\n",
       "      <td>Based on TV</td>\n",
       "      <td>Animation/Live Action</td>\n",
       "      <td>Comedy</td>\n",
       "      <td>English</td>\n",
       "      <td>General</td>\n",
       "      <td>G</td>\n",
       "      <td>Wide</td>\n",
       "      <td>337</td>\n",
       "    </tr>\n",
       "    <tr>\n",
       "      <th>4</th>\n",
       "      <td>93880115</td>\n",
       "      <td>Prince of Persia: Sands of Time</td>\n",
       "      <td>Prince of Persia: Sands of Time</td>\n",
       "      <td>2010</td>\n",
       "      <td>0</td>\n",
       "      <td>Fantasy</td>\n",
       "      <td>Based on Game</td>\n",
       "      <td>Live Action</td>\n",
       "      <td>Action</td>\n",
       "      <td>English</td>\n",
       "      <td>For intense sequences of violence and action</td>\n",
       "      <td>PG-13</td>\n",
       "      <td>Wide</td>\n",
       "      <td>335</td>\n",
       "    </tr>\n",
       "  </tbody>\n",
       "</table>\n",
       "</div>"
      ],
      "text/plain": [
       "          id                                  name  \\\n",
       "0  109870115                          Spider-Man 3   \n",
       "1   50170115                       Hangover 2, The   \n",
       "2   56130115                           I am Legend   \n",
       "3  146810115  Alvin and the Chipmunks Chip Wrecked   \n",
       "4   93880115       Prince of Persia: Sands of Time   \n",
       "\n",
       "                           display_name  production_year  movie_sequel  \\\n",
       "0                          Spider-Man 3             2007             1   \n",
       "1                  The Hangover Part II             2011             1   \n",
       "2                           I am Legend             2007             0   \n",
       "3  Alvin and the Chipmunks: Chipwrecked             2011             1   \n",
       "4       Prince of Persia: Sands of Time             2010             0   \n",
       "\n",
       "          creative_type                             source  \\\n",
       "0            Super Hero       Based on Comic/Graphic Novel   \n",
       "1  Contemporary Fiction                Original Screenplay   \n",
       "2       Science Fiction  Based on Fiction Book/Short Story   \n",
       "3          Kids Fiction                        Based on TV   \n",
       "4               Fantasy                      Based on Game   \n",
       "\n",
       "       production_method      genre language  \\\n",
       "0            Live Action  Adventure  English   \n",
       "1            Live Action     Comedy  English   \n",
       "2            Live Action     Horror  English   \n",
       "3  Animation/Live Action     Comedy  English   \n",
       "4            Live Action     Action  English   \n",
       "\n",
       "                                 board_rating_reason  \\\n",
       "0           for sequences of intense action violence   \n",
       "1  for pervasive language, strong sexual content ...   \n",
       "2  for intense sequences of sci-fi action and vio...   \n",
       "3                                            General   \n",
       "4       For intense sequences of violence and action   \n",
       "\n",
       "  movie_board_rating_display_name movie_release_pattern_display_name  total  \n",
       "0                           PG-13                               Wide    891  \n",
       "1                               R                               Wide    586  \n",
       "2                           PG-13                               Wide    585  \n",
       "3                               G                               Wide    337  \n",
       "4                           PG-13                               Wide    335  "
      ]
     },
     "execution_count": 324,
     "metadata": {},
     "output_type": "execute_result"
    }
   ],
   "source": [
    "final_test_data.head()"
   ]
  },
  {
   "cell_type": "markdown",
   "metadata": {},
   "source": [
    "### Data Exploration"
   ]
  },
  {
   "cell_type": "code",
   "execution_count": 325,
   "metadata": {},
   "outputs": [
    {
     "name": "stdout",
     "output_type": "stream",
     "text": [
      "Total number of records in train_data : 1075\n",
      "Total number of columns in train_data : 15\n",
      "Total number of records in test_data : 121\n",
      "Total number of records in test_data : 14\n"
     ]
    }
   ],
   "source": [
    "# Finding the number of rows and columns in the train and test data\n",
    "print (\"Total number of records in train_data : {}\".format(train_data.shape[0]))\n",
    "print (\"Total number of columns in train_data : {}\".format(train_data.shape[1]))\n",
    "print (\"Total number of records in test_data : {}\".format(final_test_data.shape[0]))\n",
    "print (\"Total number of records in test_data : {}\".format(final_test_data.shape[1]))       "
   ]
  },
  {
   "cell_type": "markdown",
   "metadata": {},
   "source": [
    "######  So there are 15 columns in the train data and 14 in the test data as the test data does not contain the target variable."
   ]
  },
  {
   "cell_type": "code",
   "execution_count": 326,
   "metadata": {},
   "outputs": [
    {
     "data": {
      "text/plain": [
       "(False, False)"
      ]
     },
     "execution_count": 326,
     "metadata": {},
     "output_type": "execute_result"
    }
   ],
   "source": [
    "# Lets check if there are any missing values in train or test datasets.\n",
    "train_data.isnull().values.any(), final_test_data.isnull().values.any()"
   ]
  },
  {
   "cell_type": "markdown",
   "metadata": {},
   "source": [
    "Clearly there are no missing entries we have to deal with."
   ]
  },
  {
   "cell_type": "markdown",
   "metadata": {},
   "source": [
    "#### Featureset Exploration"
   ]
  },
  {
   "cell_type": "markdown",
   "metadata": {},
   "source": [
    "* **id**: Unique movie id\n",
    "* **name**: The name of the movie\n",
    "* **display_name**: Display name of the movie\n",
    "* **production_year**: 2007,2008, 2009 , 2010 or 2011\n",
    "* **movie_sequel**: either 0 or 1\n",
    "* **creative_type**: Science Fiction, Fantasy, Kids Fiction,Super Hero, Historical Fiction, Contemporary Fiction,Dramatization\n",
    "Factual, Multiple Creative Types\n",
    "* **source**: Original Screenplay, Based on Fiction Book/Short Story, Based on TV, Based on Theme Park Ride, Based on Comic/Graphic Novel, Based on Factual Book/Article, Based on Musical or Opera, Based on Folk Tale/Legend/Fairytale, Remake, Spin-Off, Based on Game, Based on Toy, Based on Real Life Events, Based on Short Film, Based on Play, Compilation.\n",
    "* **production_method**: Animation/Live Action, Digital Animation, Live Action, Hand Animation, Stop-Motion Animation, Multiple Production Methods.\n",
    "* **genre**: Action, Adventure, Thriller/Suspense, Drama, Comedy, Musical, Horror, Romantic Comedy, Western, Documentary, Black Comedy, Concert/Performance, Multiple Genres\n",
    "* **language**: English, French, Silent, Swedish, Hindi, Spanish, Farsi, Arabic, German, Portuguese, Polish, Danish, Japanese, Italian, Hebrew, Norwegian\n",
    "* **board_rating_reason**: textual data\n",
    "* **movie_board_rating_display_name**: PG-13, G, PG, R, Not Rated, NC-17\n",
    "* **movie_release_pattern_display_name**: Wide, Limited, Expands Wide, Exclusive, Special Engagement\n",
    "* **total**: continuous value"
   ]
  },
  {
   "cell_type": "markdown",
   "metadata": {},
   "source": [
    "## Preparing the data"
   ]
  },
  {
   "cell_type": "markdown",
   "metadata": {},
   "source": [
    "Let us explore the variable total. First lets plot its histogram to see if the variable is normally distributed or skewed."
   ]
  },
  {
   "cell_type": "code",
   "execution_count": 327,
   "metadata": {
    "scrolled": true
   },
   "outputs": [
    {
     "data": {
      "image/png": "[encoded data removed]",
      "text/plain": [
       "<Figure size 432x288 with 1 Axes>"
      ]
     },
     "metadata": {},
     "output_type": "display_data"
    }
   ],
   "source": [
    "# Plotting histogram of the continuous variable \"total\"\n",
    "_= plt.hist(train_data['total'])\n",
    "_= plt.xlabel(\"total\")\n",
    "_= plt.ylabel(\"Count of movies\")\n",
    "plt.show()"
   ]
  },
  {
   "cell_type": "markdown",
   "metadata": {},
   "source": [
    "Quite clearly the 'total' varaible is positively skewed."
   ]
  },
  {
   "cell_type": "markdown",
   "metadata": {},
   "source": [
    "#### Transforming Skewed Continuous Features"
   ]
  },
  {
   "cell_type": "markdown",
   "metadata": {},
   "source": [
    "For highly-skewed feature distributions such as 'total' , it is common practice to apply a logarithmic transformation on the data so that the very large and very small values do not negatively affect the performance of a learning algorithm. Using a logarithmic transformation significantly reduces the range of values caused by outliers. The logarithm of 0 is undefined, so we must translate the values by a small amount above 0 to apply the the logarithm successfully."
   ]
  },
  {
   "cell_type": "code",
   "execution_count": 328,
   "metadata": {},
   "outputs": [],
   "source": [
    "train_data['total'] = np.log(train_data['total'] + 1)    # Using log transform on train and test data.\n",
    "final_test_data['total'] =  np.log(final_test_data['total'] + 1)"
   ]
  },
  {
   "cell_type": "code",
   "execution_count": 329,
   "metadata": {},
   "outputs": [
    {
     "data": {
      "image/png": "[encoded data removed]",
      "text/plain": [
       "<Figure size 432x288 with 1 Axes>"
      ]
     },
     "metadata": {},
     "output_type": "display_data"
    }
   ],
   "source": [
    "_= plt.hist(train_data['total'])\n",
    "_= plt.xlabel(\"total_log_transformed\")\n",
    "_= plt.ylabel(\"Count of movies\")\n",
    "plt.show()"
   ]
  },
  {
   "cell_type": "markdown",
   "metadata": {},
   "source": [
    "#### Normalizing Numerical Features"
   ]
  },
  {
   "cell_type": "markdown",
   "metadata": {},
   "source": [
    "In addition to performing transformations on features that are highly skewed, it is often good practice to perform some type of scaling on numerical features. Applying a scaling to the data does not change the shape of each feature's distribution; however, normalization ensures that each feature is treated equally when applying supervised learners."
   ]
  },
  {
   "cell_type": "code",
   "execution_count": 330,
   "metadata": {},
   "outputs": [],
   "source": [
    "# Initialize a scaler, then apply it to the total columns in train and test data\n",
    "from sklearn.preprocessing import MinMaxScaler\n",
    "scaler = MinMaxScaler() # default=(0, 1)\n",
    "train_data['total'] = scaler.fit_transform(train_data[['total']])\n",
    "final_test_data['total'] = scaler.transform(final_test_data[['total']]) "
   ]
  },
  {
   "cell_type": "code",
   "execution_count": 331,
   "metadata": {},
   "outputs": [
    {
     "data": {
      "text/plain": [
       "((1075, 15), (121, 14))"
      ]
     },
     "execution_count": 331,
     "metadata": {},
     "output_type": "execute_result"
    }
   ],
   "source": [
    "train_data.shape, final_test_data.shape"
   ]
  },
  {
   "cell_type": "markdown",
   "metadata": {},
   "source": [
    "#### Implementation: Data Preprocessing"
   ]
  },
  {
   "cell_type": "markdown",
   "metadata": {},
   "source": [
    "We can see there are several features for each record that are non-numeric. Typically, learning algorithms expect input to be numeric, which requires that non-numeric features (called categorical variables) be converted. One popular way to convert categorical variables is by using the one-hot encoding scheme. One-hot encoding creates a \"dummy\" variable for each possible category of each non-numeric feature."
   ]
  },
  {
   "cell_type": "code",
   "execution_count": 332,
   "metadata": {},
   "outputs": [],
   "source": [
    "categorical_columns = ['production_year','movie_sequel', 'creative_type', 'source', 'production_method', 'genre',\n",
    "       'language', 'movie_board_rating_display_name','movie_release_pattern_display_name']"
   ]
  },
  {
   "cell_type": "code",
   "execution_count": 333,
   "metadata": {},
   "outputs": [],
   "source": [
    "train_data = pd.get_dummies(train_data, columns = categorical_columns)\n",
    "final_test_data = pd.get_dummies(final_test_data, columns = categorical_columns)"
   ]
  },
  {
   "cell_type": "markdown",
   "metadata": {},
   "source": [
    "#### Now let us drop all unnecessary features that we won't be using in our machine learning algorithm."
   ]
  },
  {
   "cell_type": "code",
   "execution_count": 334,
   "metadata": {},
   "outputs": [],
   "source": [
    "train_data.drop(columns = ['id', 'name', 'display_name', 'board_rating_reason'], inplace = True)\n",
    "final_test_data.drop(columns = ['id', 'name', 'display_name', 'board_rating_reason'], inplace = True)"
   ]
  },
  {
   "cell_type": "code",
   "execution_count": 335,
   "metadata": {},
   "outputs": [
    {
     "name": "stdout",
     "output_type": "stream",
     "text": [
      "82 total features after one-hot encoding.\n"
     ]
    }
   ],
   "source": [
    "encoded = list(train_data.columns)\n",
    "print (\"{} total features after one-hot encoding.\".format(len(encoded)))"
   ]
  },
  {
   "cell_type": "markdown",
   "metadata": {},
   "source": [
    "Note: The test set could be small and some values could be absent? We will need to add the missing columns, filled with zeroes as shown below:"
   ]
  },
  {
   "cell_type": "code",
   "execution_count": 336,
   "metadata": {},
   "outputs": [],
   "source": [
    "def add_missing_dummy_columns( d, columns):\n",
    "    missing_cols = set( columns ) - set( d.columns )\n",
    "    for c in missing_cols:\n",
    "        d[c] = 0"
   ]
  },
  {
   "cell_type": "code",
   "execution_count": 337,
   "metadata": {},
   "outputs": [],
   "source": [
    "add_missing_dummy_columns(final_test_data, encoded)"
   ]
  },
  {
   "cell_type": "code",
   "execution_count": 338,
   "metadata": {},
   "outputs": [],
   "source": [
    "final_test_data.drop(columns = ['Category'], inplace = True) # removing column Category from the test set. It was inadvertently\n",
    "                                                            # by add_missing_dummy_columns function above.\n"
   ]
  },
  {
   "cell_type": "code",
   "execution_count": 339,
   "metadata": {},
   "outputs": [
    {
     "data": {
      "text/plain": [
       "((1075, 82), (121, 81))"
      ]
     },
     "execution_count": 339,
     "metadata": {},
     "output_type": "execute_result"
    }
   ],
   "source": [
    "train_data.shape, final_test_data.shape"
   ]
  },
  {
   "cell_type": "markdown",
   "metadata": {},
   "source": [
    "#### Checking if the training data is balanced or imbalanced?"
   ]
  },
  {
   "cell_type": "code",
   "execution_count": 340,
   "metadata": {},
   "outputs": [
    {
     "data": {
      "text/plain": [
       "Category\n",
       "1    151\n",
       "2    223\n",
       "3    221\n",
       "4    186\n",
       "5    119\n",
       "6     72\n",
       "7     55\n",
       "8     31\n",
       "9     17\n",
       "Name: Category, dtype: int64"
      ]
     },
     "execution_count": 340,
     "metadata": {},
     "output_type": "execute_result"
    }
   ],
   "source": [
    "train_data.groupby(['Category'])['Category'].count()"
   ]
  },
  {
   "cell_type": "markdown",
   "metadata": {},
   "source": [
    "The training data is imbalanced, the data points in Category 6,7,8 and 9 are heavily underrepresented. This may affect out classification model. To correct this we can use the SMOTE technique to construct a more balanced dataset. Rather than replicating the minority observations , Synthetic Minority Oversampling (SMOTE) works by creating synthetic observations based upon the existing minority observations. "
   ]
  },
  {
   "cell_type": "markdown",
   "metadata": {},
   "source": [
    "#### Shuffle and Split Data"
   ]
  },
  {
   "cell_type": "markdown",
   "metadata": {},
   "source": [
    "Now all categorical variables have been converted into numerical features, and all numerical features have been normalized. We will now split the train_data into training and test sets for internal cross validation purpose. 75% of the data will be used for training and 25% for testing and refining our model."
   ]
  },
  {
   "cell_type": "code",
   "execution_count": 341,
   "metadata": {},
   "outputs": [
    {
     "name": "stdout",
     "output_type": "stream",
     "text": [
      "Training set has 806 samples.\n",
      "Testing set has 269 samples.\n"
     ]
    }
   ],
   "source": [
    "#Import train_test_split\n",
    "from sklearn.model_selection import train_test_split\n",
    "\n",
    "train_data_y = train_data['Category']\n",
    "train_data_x = train_data.drop('Category', axis=1)\n",
    "\n",
    "# Split the train_data from above into training and testing sets\n",
    "X_train, X_test, y_train, y_test = train_test_split(train_data_x, train_data_y, test_size = 0.25, random_state = 42)\n",
    "\n",
    "# Show the results of the split\n",
    "print (\"Training set has {} samples.\".format(X_train.shape[0]))\n",
    "print (\"Testing set has {} samples.\".format(X_test.shape[0]))"
   ]
  },
  {
   "cell_type": "code",
   "execution_count": 342,
   "metadata": {},
   "outputs": [
    {
     "name": "stdout",
     "output_type": "stream",
     "text": [
      "Resampled training set has 1548 samples.\n"
     ]
    }
   ],
   "source": [
    "from imblearn.over_sampling import SMOTE\n",
    "sm = SMOTE(random_state = 42)\n",
    "X_train_resampled, y_train_resampled = sm.fit_sample(X_train, y_train)\n",
    "\n",
    "# Show the results of the resampling\n",
    "print (\"Resampled training set has {} samples.\".format(X_train_resampled.shape[0]))"
   ]
  },
  {
   "cell_type": "code",
   "execution_count": 343,
   "metadata": {},
   "outputs": [
    {
     "data": {
      "text/plain": [
       "Category\n",
       "1    172\n",
       "2    172\n",
       "3    172\n",
       "4    172\n",
       "5    172\n",
       "6    172\n",
       "7    172\n",
       "8    172\n",
       "9    172\n",
       "Name: Category, dtype: int64"
      ]
     },
     "execution_count": 343,
     "metadata": {},
     "output_type": "execute_result"
    }
   ],
   "source": [
    "# Show the distribution after SMOTE resampling\n",
    "a = pd.DataFrame(y_train_resampled, columns = [\"Category\"])\n",
    "a.groupby(['Category'])['Category'].count()"
   ]
  },
  {
   "cell_type": "markdown",
   "metadata": {},
   "source": [
    "The X_train_resampled and y_train_resampled are now balanced, we can proceed further and develop a model."
   ]
  },
  {
   "cell_type": "markdown",
   "metadata": {},
   "source": [
    "### Developing a model"
   ]
  },
  {
   "cell_type": "markdown",
   "metadata": {},
   "source": [
    "##### Implementation - Creating a Training and Predicting Pipeline"
   ]
  },
  {
   "cell_type": "markdown",
   "metadata": {},
   "source": [
    "To properly evaluate the performance of each model we've chosen, it's important that we create a training and predicting pipeline that allows us to quickly and effectively train models and perform predictions on the testing data. "
   ]
  },
  {
   "cell_type": "code",
   "execution_count": 223,
   "metadata": {},
   "outputs": [],
   "source": [
    "# Import metrics from sklearn - accuracy_score\n",
    "from sklearn.metrics import accuracy_score\n",
    "\n",
    "def train_predict(learner, X_train, y_train, X_test, y_test): \n",
    "    '''\n",
    "    inputs:\n",
    "       - learner: the learning algorithm to be trained and predicted on\n",
    "       - X_train: features training set\n",
    "       - y_train: income training set\n",
    "       - X_test: features testing set\n",
    "       - y_test: income testing set\n",
    "    '''\n",
    "    results = {}\n",
    "    \n",
    "    # Fit the learner to the training data \n",
    "    learner = learner.fit(X_train, y_train)\n",
    "        \n",
    "    # Get the predictions on the test set(X_test),\n",
    "    predictions_test = learner.predict(X_test)        \n",
    "           \n",
    "    # Compute accuracy on test set using accuracy_score()\n",
    "    results['acc_test'] = accuracy_score(y_test, predictions_test)\n",
    "               \n",
    "    # Success\n",
    "    print (\"{} training complete \".format(learner.__class__.__name__))\n",
    "        \n",
    "    # Return the results\n",
    "    return results"
   ]
  },
  {
   "cell_type": "markdown",
   "metadata": {},
   "source": [
    "First, We will try a quick and dirty implementation of the following Supervised Learning algorithms and compare our model's performance on the accuracy metric. This will give us an idea as to which model is performing better and should be fine tuned further."
   ]
  },
  {
   "cell_type": "markdown",
   "metadata": {},
   "source": [
    "* **K nearest neighbours**\n",
    "* **Support Vector Machines (SVM)**\n",
    "* **Random Forest**\n",
    "* **Logistic Regression**"
   ]
  },
  {
   "cell_type": "code",
   "execution_count": 344,
   "metadata": {},
   "outputs": [],
   "source": [
    "# Import the three supervised learning models from sklearn\n",
    "from sklearn.neighbors import KNeighborsClassifier  \n",
    "from sklearn.svm import SVC\n",
    "from sklearn.ensemble import RandomForestClassifier\n",
    "from sklearn.linear_model import LogisticRegression"
   ]
  },
  {
   "cell_type": "code",
   "execution_count": 345,
   "metadata": {},
   "outputs": [],
   "source": [
    "#  Initialize the three models\n",
    "clf_A = KNeighborsClassifier(n_neighbors=42)  \n",
    "clf_B = SVC(random_state = 42)\n",
    "clf_C = RandomForestClassifier(random_state = 42)\n",
    "clf_D = LogisticRegression(random_state=42)"
   ]
  },
  {
   "cell_type": "code",
   "execution_count": 346,
   "metadata": {},
   "outputs": [
    {
     "name": "stdout",
     "output_type": "stream",
     "text": [
      "KNeighborsClassifier training complete \n",
      "SVC training complete \n",
      "RandomForestClassifier training complete \n",
      "LogisticRegression training complete \n"
     ]
    }
   ],
   "source": [
    "# Collect results on the learners\n",
    "results = {}\n",
    "for clf in [clf_A, clf_B, clf_C, clf_D]:\n",
    "    clf_name = clf.__class__.__name__\n",
    "    results[clf_name] = train_predict(clf, X_train_resampled, y_train_resampled, X_test, y_test)"
   ]
  },
  {
   "cell_type": "markdown",
   "metadata": {},
   "source": [
    "#### Plotting the evaluation metrics for different classifiers"
   ]
  },
  {
   "cell_type": "code",
   "execution_count": 347,
   "metadata": {},
   "outputs": [],
   "source": [
    "result_df = pd.DataFrame.from_dict(results).T"
   ]
  },
  {
   "cell_type": "code",
   "execution_count": 348,
   "metadata": {},
   "outputs": [
    {
     "data": {
      "image/png": "[encoded data removed]",
      "text/plain": [
       "<Figure size 1080x720 with 1 Axes>"
      ]
     },
     "metadata": {},
     "output_type": "display_data"
    }
   ],
   "source": [
    "ax = result_df[['acc_test']].plot(kind='bar', title =\"Comparing Classifiers\", figsize=(15, 10), legend=True, fontsize=12)\n",
    "ax.set_xlabel(\"Classifier\", fontsize=12)\n",
    "ax.set_ylabel(\"Accuracy\", fontsize=12)\n",
    "plt.show()"
   ]
  },
  {
   "cell_type": "markdown",
   "metadata": {},
   "source": [
    "The Random Forest model clearly outperforms other models. So going forward we shall be using Random Forest to further improve our prediction accuracy."
   ]
  },
  {
   "cell_type": "markdown",
   "metadata": {},
   "source": [
    "### Improving Results"
   ]
  },
  {
   "cell_type": "markdown",
   "metadata": {},
   "source": [
    "We will perform a grid search optimization for the model over the parameters max_depth and number_of_estimators to further refine our model. We will use the error metric accuracy."
   ]
  },
  {
   "cell_type": "code",
   "execution_count": 349,
   "metadata": {},
   "outputs": [],
   "source": [
    "# Import 'GridSearchCV'\n",
    "from sklearn.model_selection import GridSearchCV\n",
    "\n",
    "# Initialize the classifier\n",
    "clf = RandomForestClassifier(random_state = 42)\n",
    "\n",
    "# Parameters list we wish to tune\n",
    "parameters = {'max_depth': range(1,25), 'n_estimators': range(15,50)}\n",
    "\n",
    "# Perform grid search on the classifier using 'accuracy' as the scoring method using GridSearchCV()\n",
    "grid_obj = GridSearchCV(clf,param_grid=parameters,scoring='accuracy')\n",
    "\n",
    "# Fit the grid search object to the training data and find the optimal parameters using fit()\n",
    "grid_fit = grid_obj.fit(X_train_resampled, y_train_resampled)\n",
    "\n",
    "# Get the estimator\n",
    "best_clf = grid_fit.best_estimator_\n",
    "\n",
    "# Make predictions using the unoptimized and model\n",
    "predictions = clf_C.predict(X_test)\n",
    "best_predictions = best_clf.predict(X_test)"
   ]
  },
  {
   "cell_type": "code",
   "execution_count": 350,
   "metadata": {},
   "outputs": [
    {
     "name": "stdout",
     "output_type": "stream",
     "text": [
      "Unoptimized model\n",
      "------\n",
      "Accuracy score on testing data: 0.6654\n",
      "\n",
      "Optimized Model\n",
      "------\n",
      "Final accuracy score on the testing data: 0.7472\n",
      "Best Parameters for the model is: {'max_depth': 15, 'n_estimators': 48}\n"
     ]
    }
   ],
   "source": [
    "# Report the before-and-afterscores\n",
    "print (\"Unoptimized model\\n------\")\n",
    "print (\"Accuracy score on testing data: {:.4f}\".format(accuracy_score(y_test, predictions)))\n",
    "print (\"\\nOptimized Model\\n------\")\n",
    "print (\"Final accuracy score on the testing data: {:.4f}\".format(accuracy_score(y_test, best_predictions)))\n",
    "print (\"Best Parameters for the model is: {}\".format(grid_fit.best_params_))"
   ]
  },
  {
   "cell_type": "markdown",
   "metadata": {},
   "source": [
    "So, After fine tuning, our accuracy has improved from 0.6654 to 0.7472. "
   ]
  },
  {
   "cell_type": "markdown",
   "metadata": {},
   "source": [
    "### Confusion Matrix"
   ]
  },
  {
   "cell_type": "markdown",
   "metadata": {},
   "source": [
    "Next we shall plot the confusion matrix."
   ]
  },
  {
   "cell_type": "code",
   "execution_count": 353,
   "metadata": {},
   "outputs": [
    {
     "data": {
      "image/png": "[encoded data removed]",
      "text/plain": [
       "<Figure size 432x288 with 2 Axes>"
      ]
     },
     "metadata": {},
     "output_type": "display_data"
    }
   ],
   "source": [
    "from sklearn.metrics import confusion_matrix\n",
    "conf_arr = confusion_matrix(y_test, best_predictions)\n",
    "\n",
    "norm_conf = []\n",
    "for i in conf_arr:\n",
    "    a = 0\n",
    "    tmp_arr = []\n",
    "    a = sum(i, 0)\n",
    "    for j in i:\n",
    "        tmp_arr.append(float(j)/float(a))\n",
    "    norm_conf.append(tmp_arr)\n",
    "\n",
    "fig = plt.figure()\n",
    "plt.clf()\n",
    "ax = fig.add_subplot(111)\n",
    "ax.set_aspect(1)\n",
    "res = ax.imshow(np.array(norm_conf), cmap=plt.cm.jet, interpolation='nearest')\n",
    "\n",
    "width, height = conf_arr.shape\n",
    "\n",
    "for x in range(width):\n",
    "    for y in range(height):\n",
    "        ax.annotate(str(conf_arr[x][y]), xy=(y, x),horizontalalignment='center', verticalalignment='center')\n",
    "\n",
    "cb = fig.colorbar(res)\n",
    "plt.xticks(range(width), range(1,10))\n",
    "plt.yticks(range(height), range(1,10))\n",
    "plt.xlabel(\"Predicted Label\")\n",
    "plt.ylabel(\"True Label\")\n",
    "plt.savefig('confusion_matrix.png', format='png')"
   ]
  },
  {
   "cell_type": "markdown",
   "metadata": {},
   "source": [
    "### Feature Importance"
   ]
  },
  {
   "cell_type": "markdown",
   "metadata": {},
   "source": [
    "An important task when performing supervised learning on a dataset like the data we study here is determining which features provide the most predictive power. By focusing on the relationship between only a few crucial features and the target label we simplify our understanding of the phenomenon, which is most always a useful thing to do. In the case of this project, that means we wish to identify a small number of features that most strongly predict how successful the movie will be."
   ]
  },
  {
   "cell_type": "code",
   "execution_count": 354,
   "metadata": {},
   "outputs": [],
   "source": [
    "importances = best_clf.feature_importances_"
   ]
  },
  {
   "cell_type": "code",
   "execution_count": 235,
   "metadata": {},
   "outputs": [
    {
     "name": "stdout",
     "output_type": "stream",
     "text": [
      "Feature ranking:\n",
      "1. total (0.361861)\n",
      "2. production_year_2007 (0.033676)\n",
      "3. production_year_2008 (0.028542)\n",
      "4. production_year_2009 (0.025988)\n",
      "5. production_year_2010 (0.025962)\n",
      "6. production_year_2011 (0.025359)\n",
      "7. movie_sequel_0 (0.024453)\n",
      "8. movie_sequel_1 (0.021913)\n",
      "9. creative_type_Contemporary Fiction (0.021335)\n",
      "10. creative_type_Dramatization (0.021243)\n",
      "11. creative_type_Factual (0.020771)\n",
      "12. creative_type_Fantasy (0.020471)\n",
      "13. creative_type_Historical Fiction (0.020281)\n",
      "14. creative_type_Kids Fiction (0.020096)\n",
      "15. creative_type_Multiple Creative Types (0.019140)\n",
      "16. creative_type_Science Fiction (0.018770)\n",
      "17. creative_type_Super Hero (0.017494)\n",
      "18. source_Based on Comic/Graphic Novel (0.016982)\n",
      "19. source_Based on Factual Book/Article (0.016852)\n",
      "20. source_Based on Fiction Book/Short Story (0.016405)\n",
      "21. source_Based on Folk Tale/Legend/Fairytale (0.016085)\n",
      "22. source_Based on Game (0.014019)\n",
      "23. source_Based on Musical or Opera (0.012977)\n",
      "24. source_Based on Play (0.011992)\n",
      "25. source_Based on Real Life Events (0.011203)\n",
      "26. source_Based on Short Film (0.011106)\n",
      "27. source_Based on TV (0.010946)\n",
      "28. source_Based on Theme Park Ride (0.010488)\n",
      "29. source_Based on Toy (0.009366)\n",
      "30. source_Compilation (0.009222)\n",
      "31. source_Original Screenplay (0.008864)\n",
      "32. source_Remake (0.008351)\n",
      "33. source_Spin-Off (0.006776)\n",
      "34. production_method_Animation/Live Action (0.006710)\n",
      "35. production_method_Digital Animation (0.006512)\n",
      "36. production_method_Hand Animation (0.005769)\n",
      "37. production_method_Live Action (0.005665)\n",
      "38. production_method_Multiple Production Methods (0.005279)\n",
      "39. production_method_Stop-Motion Animation (0.005236)\n",
      "40. genre_Action (0.005188)\n",
      "41. genre_Adventure (0.004762)\n",
      "42. genre_Black Comedy (0.004134)\n",
      "43. genre_Comedy (0.003506)\n",
      "44. genre_Concert/Performance (0.003408)\n",
      "45. genre_Documentary (0.003345)\n",
      "46. genre_Drama (0.002502)\n",
      "47. genre_Horror (0.002424)\n",
      "48. genre_Multiple Genres (0.002111)\n",
      "49. genre_Musical (0.001510)\n",
      "50. genre_Romantic Comedy (0.001448)\n",
      "51. genre_Thriller/Suspense (0.001431)\n",
      "52. genre_Western (0.001319)\n",
      "53. language_Arabic (0.001223)\n",
      "54. language_Danish (0.000860)\n",
      "55. language_English (0.000799)\n",
      "56. language_Farsi (0.000637)\n",
      "57. language_French (0.000556)\n",
      "58. language_German (0.000533)\n",
      "59. language_Hebrew (0.000518)\n",
      "60. language_Hindi (0.000476)\n",
      "61. language_Italian (0.000449)\n",
      "62. language_Japanese (0.000409)\n",
      "63. language_Norwegian (0.000388)\n",
      "64. language_Polish (0.000349)\n",
      "65. language_Portuguese (0.000210)\n",
      "66. language_Silent (0.000209)\n",
      "67. language_Spanish (0.000188)\n",
      "68. language_Swedish (0.000179)\n",
      "69. movie_board_rating_display_name_G (0.000169)\n",
      "70. movie_board_rating_display_name_NC-17 (0.000154)\n",
      "71. movie_board_rating_display_name_Not Rated (0.000126)\n",
      "72. movie_board_rating_display_name_PG (0.000074)\n",
      "73. movie_board_rating_display_name_PG-13 (0.000069)\n",
      "74. movie_board_rating_display_name_R (0.000060)\n",
      "75. movie_release_pattern_display_name_Exclusive (0.000060)\n",
      "76. movie_release_pattern_display_name_Expands Wide (0.000035)\n",
      "77. movie_release_pattern_display_name_IMAX (0.000024)\n",
      "78. movie_release_pattern_display_name_Limited (0.000000)\n",
      "79. movie_release_pattern_display_name_Oscar Qualifying Run (0.000000)\n",
      "80. movie_release_pattern_display_name_Special Engagement (0.000000)\n",
      "81. movie_release_pattern_display_name_Wide (0.000000)\n"
     ]
    },
    {
     "data": {
      "image/png": "[encoded data removed]",
      "text/plain": [
       "<Figure size 432x288 with 1 Axes>"
      ]
     },
     "metadata": {},
     "output_type": "display_data"
    }
   ],
   "source": [
    "std = np.std([tree.feature_importances_ for tree in best_clf.estimators_], axis=0)\n",
    "indices = np.argsort(importances)[::-1]\n",
    "\n",
    "# Print the feature ranking\n",
    "print(\"Feature ranking:\")\n",
    "\n",
    "for f in range(X_train.shape[1]):\n",
    "    print(\"%d. %s (%f)\" % (f + 1, X_train.columns[f], importances[indices[f]]))\n",
    "\n",
    "# Plot the feature importances\n",
    "plt.figure()\n",
    "plt.title(\"Feature importances\")\n",
    "plt.bar(range(X_train.shape[1]), importances[indices], color=\"r\", yerr=std[indices], align=\"center\")\n",
    "plt.xticks(range(X_train.shape[1]), indices)\n",
    "plt.xlim([-1, X_train.shape[1]])\n",
    "plt.show()"
   ]
  },
  {
   "cell_type": "markdown",
   "metadata": {},
   "source": [
    "### Using the best classifier to predict the target on the final test set for submission"
   ]
  },
  {
   "cell_type": "code",
   "execution_count": 355,
   "metadata": {},
   "outputs": [],
   "source": [
    "test_prediction = best_clf.predict(final_test_data)"
   ]
  },
  {
   "cell_type": "code",
   "execution_count": 356,
   "metadata": {},
   "outputs": [],
   "source": [
    "submission_data[\"Category\"] = test_prediction"
   ]
  },
  {
   "cell_type": "code",
   "execution_count": 358,
   "metadata": {},
   "outputs": [
    {
     "name": "stdout",
     "output_type": "stream",
     "text": [
      "Done!\n"
     ]
    }
   ],
   "source": [
    "# Save the predictions out to a CSV file\n",
    "submission_data.to_csv(\"C:/Users/samit.singh/Desktop/TSC/Case Study/predictions.csv\", index=False)\n",
    "print(\"Done!\")"
   ]
  }
 ],
 "metadata": {
  "kernelspec": {
   "display_name": "Python 3",
   "language": "python",
   "name": "python3"
  },
  "language_info": {
   "codemirror_mode": {
    "name": "ipython",
    "version": 3
   },
   "file_extension": ".py",
   "mimetype": "text/x-python",
   "name": "python",
   "nbconvert_exporter": "python",
   "pygments_lexer": "ipython3",
   "version": "3.6.5"
  }
 },
 "nbformat": 4,
 "nbformat_minor": 2
}
